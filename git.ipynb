{
 "cells": [
  {
   "cell_type": "markdown",
   "id": "d1442020-a017-4163-87ea-b04ea8e0c87f",
   "metadata": {},
   "source": [
    "## git "
   ]
  },
  {
   "cell_type": "code",
   "execution_count": null,
   "id": "b7cef98a-16fe-4b24-b56c-01cc96ade0cf",
   "metadata": {},
   "outputs": [],
   "source": [
    "1. distributed version control system [VC system]"
   ]
  },
  {
   "cell_type": "markdown",
   "id": "d7224f72-40c2-4d5f-9f70-b872b2415268",
   "metadata": {},
   "source": [
    "### github ?? "
   ]
  },
  {
   "cell_type": "code",
   "execution_count": null,
   "id": "37d640b4-a4bd-4682-b04d-dd249826c67d",
   "metadata": {},
   "outputs": [],
   "source": [
    "1. gitlab\n",
    "2. gitbucket\n",
    "3. github"
   ]
  },
  {
   "cell_type": "code",
   "execution_count": null,
   "id": "f500cf90-6536-4f8c-b3e6-d3fc70a97966",
   "metadata": {},
   "outputs": [],
   "source": [
    "why are we using git ?? \n",
    ">> most used vc system \n",
    ">> we have some extra features \n",
    ">> its having free account. [500 MB]\n"
   ]
  },
  {
   "cell_type": "markdown",
   "id": "b2748f36-15df-45a9-b97f-85969cefc355",
   "metadata": {},
   "source": [
    "## git Terminologies "
   ]
  },
  {
   "cell_type": "code",
   "execution_count": null,
   "id": "7eaba40b-8eee-42a8-be95-37a23d2d72ee",
   "metadata": {},
   "outputs": [],
   "source": [
    "repositories >> project folder \n",
    "\n",
    "branch >> test, production , validation, "
   ]
  },
  {
   "cell_type": "code",
   "execution_count": null,
   "id": "e2e89502-9463-497f-9486-4aab49e52e78",
   "metadata": {},
   "outputs": [],
   "source": []
  },
  {
   "cell_type": "markdown",
   "id": "789de73a-3530-4880-956f-7db24641d323",
   "metadata": {},
   "source": [
    "## Create online repo"
   ]
  },
  {
   "cell_type": "code",
   "execution_count": null,
   "id": "5bb3f562-d80a-4550-b9b3-4b7ac7039f46",
   "metadata": {},
   "outputs": [],
   "source": [
    "git init"
   ]
  },
  {
   "cell_type": "markdown",
   "id": "d17ff019-590a-43a9-bf32-166ff8819c51",
   "metadata": {},
   "source": [
    "### Config git repo"
   ]
  },
  {
   "cell_type": "code",
   "execution_count": null,
   "id": "ef76b6ad-cfe5-4443-9927-f4c3560921f9",
   "metadata": {},
   "outputs": [],
   "source": [
    "git config -l >> display all; configuration \n",
    "git config --global user.email 'email'\n",
    "git config --global user.name 'user_name'\n",
    "git config --global user.user 'user_name'  ## optional "
   ]
  },
  {
   "cell_type": "code",
   "execution_count": null,
   "id": "269fd85c-b7e4-43b5-8c5b-557ce3701d48",
   "metadata": {},
   "outputs": [],
   "source": [
    "Step 2: create online repo on github "
   ]
  },
  {
   "cell_type": "markdown",
   "id": "d76af3a2-9056-4003-8e70-d4f93d3c0bfd",
   "metadata": {
    "tags": []
   },
   "source": [
    "### How to push project code on Repo"
   ]
  },
  {
   "cell_type": "markdown",
   "id": "decd1179-257f-489f-ad13-20801ea5c2ea",
   "metadata": {},
   "source": [
    "##### Step 1: check the status of files "
   ]
  },
  {
   "cell_type": "code",
   "execution_count": null,
   "id": "961137a4-148f-412e-ba4a-932df35a49c2",
   "metadata": {},
   "outputs": [],
   "source": [
    "\n",
    "\n",
    "git status\n",
    "\n",
    ">>\n",
    "\n",
    "Untracked files:\n",
    "  (use \"git add <file>...\" to include in what will be committed)\n",
    "        main.py\n",
    "        one.txt\n",
    "        templates/\n",
    "\n",
    "nothing added to commit but untracked files present (use \"git add\" to track)\n",
    "\n",
    "    "
   ]
  },
  {
   "cell_type": "markdown",
   "id": "2d56c1cc-e526-47e2-a8a1-2a75c13f2b05",
   "metadata": {},
   "source": [
    "##### step 2 : Add files to git "
   ]
  },
  {
   "cell_type": "code",
   "execution_count": null,
   "id": "fb1ff8d3-5110-4fdf-83ef-fc6263340b14",
   "metadata": {},
   "outputs": [],
   "source": [
    "# to add single file\n",
    "git add file_name\n",
    "\n",
    "## to add all files \n",
    "git add .\n",
    "git add --all"
   ]
  },
  {
   "cell_type": "markdown",
   "id": "65fff67c-5fd0-44c2-8b35-c28eec7c2e88",
   "metadata": {},
   "source": [
    "##### step 3: Commit files "
   ]
  },
  {
   "cell_type": "code",
   "execution_count": null,
   "id": "ec7e700a-e08f-46b8-ab37-49ac1d6b916e",
   "metadata": {},
   "outputs": [],
   "source": [
    "git commit -m \"your msg\""
   ]
  },
  {
   "cell_type": "markdown",
   "id": "b0ad2260-8a6d-45cf-aa15-d195d6eae5cc",
   "metadata": {},
   "source": [
    "#### step 4: push to online repo "
   ]
  },
  {
   "cell_type": "code",
   "execution_count": null,
   "id": "486ac209-5e6f-4254-b74a-6364d1dab1fe",
   "metadata": {},
   "outputs": [],
   "source": [
    "git remote add origin url\n",
    "\n",
    "e.g \n",
    "\n",
    "git remote add origin https://github.com/shri50/project_jan22.git >> connection between local repo to online repo\n",
    "git branch -m main   >> chnage branch \n",
    "git push -u origin main >> upload the project online repo"
   ]
  },
  {
   "cell_type": "code",
   "execution_count": null,
   "id": "5052eb11-d891-4f98-bd24-d8fbbe133397",
   "metadata": {},
   "outputs": [],
   "source": []
  },
  {
   "cell_type": "code",
   "execution_count": null,
   "id": "90b7bf61-66d2-4e64-9963-e352ea3f7846",
   "metadata": {},
   "outputs": [],
   "source": []
  },
  {
   "cell_type": "markdown",
   "id": "b4d13b2d-d062-4db3-a648-30bd666da6ab",
   "metadata": {},
   "source": [
    "### How to Use branches\n"
   ]
  },
  {
   "cell_type": "code",
   "execution_count": null,
   "id": "36f65a4e-99bb-488a-961b-3b7761137e41",
   "metadata": {},
   "outputs": [],
   "source": [
    "Actual indusry \n",
    "\n",
    "prod >> new features addition \n",
    "test >> new features testing \n",
    "live >> Your working project "
   ]
  },
  {
   "cell_type": "markdown",
   "id": "4421cb6f-0f0a-46cd-ad58-0ed2f22f61de",
   "metadata": {},
   "source": [
    "### Check branches"
   ]
  },
  {
   "cell_type": "code",
   "execution_count": null,
   "id": "47e11f47-da57-4143-a33b-f9a419966d32",
   "metadata": {},
   "outputs": [],
   "source": [
    "git branch >> show all branches \n",
    "\n"
   ]
  },
  {
   "cell_type": "markdown",
   "id": "0f1575de-8ccc-4d8c-b462-df72fad9cc57",
   "metadata": {},
   "source": [
    "## Create new Branch "
   ]
  },
  {
   "cell_type": "code",
   "execution_count": null,
   "id": "e41ff8df-f820-4900-a25c-074072542624",
   "metadata": {},
   "outputs": [],
   "source": [
    "git checkout -b branch_name \n",
    "\n",
    "git checkout -b feature_engineering"
   ]
  },
  {
   "cell_type": "code",
   "execution_count": null,
   "id": "e354edf7-d48a-46e6-ba0e-f45ff6c88c35",
   "metadata": {},
   "outputs": [],
   "source": [
    "story_name >> task assign to you. \n",
    "\n",
    "CICD >> Continue Integration Continous Development >> pipeline  "
   ]
  },
  {
   "cell_type": "markdown",
   "id": "1756f3ba-aed1-4481-bfb4-93f68d1d78df",
   "metadata": {},
   "source": [
    "### Switch Branch "
   ]
  },
  {
   "cell_type": "code",
   "execution_count": null,
   "id": "71196b94-1b6f-4ab6-b048-d93791269063",
   "metadata": {},
   "outputs": [],
   "source": [
    "git checkout branch_name "
   ]
  },
  {
   "cell_type": "code",
   "execution_count": null,
   "id": "0157db5d-1201-4e26-8579-e1ecab49f7c5",
   "metadata": {},
   "outputs": [],
   "source": []
  },
  {
   "cell_type": "markdown",
   "id": "1bc98953-5837-47cb-b88c-f67e30343380",
   "metadata": {},
   "source": [
    "## git merge"
   ]
  },
  {
   "cell_type": "code",
   "execution_count": null,
   "id": "77f11b5e-4cd8-4ea1-835c-1678afd93801",
   "metadata": {},
   "outputs": [],
   "source": [
    "git merge branch_name >> merges all changes to the branch \n",
    "\n"
   ]
  },
  {
   "cell_type": "markdown",
   "id": "b0ab6015-abc2-4881-864b-2f64e379da9a",
   "metadata": {},
   "source": [
    "## Clone repository"
   ]
  },
  {
   "cell_type": "code",
   "execution_count": null,
   "id": "7b3a4d3d-7ed4-4aed-a8b2-b7ef59bdbd87",
   "metadata": {},
   "outputs": [],
   "source": [
    "git clone url \n",
    "\n",
    "e.g \n",
    "\n",
    "git clone https://github.com/shri50/car-price-prediction.git"
   ]
  },
  {
   "cell_type": "markdown",
   "id": "4ba9bc00-4bd4-4e5d-b339-c5de18c50322",
   "metadata": {},
   "source": [
    "## git pull "
   ]
  },
  {
   "cell_type": "code",
   "execution_count": null,
   "id": "2007a8da-c493-4fef-a46a-c7329c704101",
   "metadata": {},
   "outputs": [],
   "source": [
    "git pull >> online repo to ofline repo changes "
   ]
  },
  {
   "cell_type": "markdown",
   "id": "7c1eed65-dab6-40ae-ac8d-c7b98caa1166",
   "metadata": {},
   "source": [
    "### Push branch "
   ]
  },
  {
   "cell_type": "code",
   "execution_count": null,
   "id": "6bc83f01-5328-4db0-a369-3d5b7df63c42",
   "metadata": {},
   "outputs": [],
   "source": [
    "git push -u origin branch_name"
   ]
  },
  {
   "cell_type": "code",
   "execution_count": null,
   "id": "60e37ab9-08cc-4a25-a449-3910c1731fa5",
   "metadata": {},
   "outputs": [],
   "source": []
  },
  {
   "cell_type": "code",
   "execution_count": null,
   "id": "c104fe52-0538-4db0-b8da-2420b2be5fdc",
   "metadata": {},
   "outputs": [],
   "source": [
    "Git commands"
   ]
  },
  {
   "cell_type": "markdown",
   "id": "03123004-163a-480b-877f-bf57d267b701",
   "metadata": {},
   "source": [
    "### Delete Branch "
   ]
  },
  {
   "cell_type": "code",
   "execution_count": null,
   "id": "8f8acc41-d15e-461f-b7a1-c6b7b190250a",
   "metadata": {},
   "outputs": [],
   "source": [
    "### Delete local branch \n",
    "git branch -d branch_name\n",
    "\n",
    "### Delete branch remotely \n",
    "git push origin --delete branch_name\n"
   ]
  },
  {
   "cell_type": "code",
   "execution_count": null,
   "id": "1d5276bd-d99e-411b-bf1e-2a9c35a8da15",
   "metadata": {},
   "outputs": [],
   "source": []
  },
  {
   "cell_type": "code",
   "execution_count": null,
   "id": "f0a60e09-ffb4-409b-8f92-8c162138d143",
   "metadata": {},
   "outputs": [],
   "source": [
    "git status\n",
    "git add . \n",
    "git commit -m \"msg\"\n",
    "git checkout branch >> change the branch \n",
    "git pull >> \n",
    "git push -u origin branch_name\n",
    "git merge branch_name \n",
    "\n",
    "\n",
    "#######################\n",
    "git init\n",
    "git remote add origin url \n",
    "git config --global user.email \n",
    "git config --global user.name\n",
    "git clone url \n",
    "\n"
   ]
  }
 ],
 "metadata": {
  "kernelspec": {
   "display_name": "Python 3 (ipykernel)",
   "language": "python",
   "name": "python3"
  },
  "language_info": {
   "codemirror_mode": {
    "name": "ipython",
    "version": 3
   },
   "file_extension": ".py",
   "mimetype": "text/x-python",
   "name": "python",
   "nbconvert_exporter": "python",
   "pygments_lexer": "ipython3",
   "version": "3.9.7"
  }
 },
 "nbformat": 4,
 "nbformat_minor": 5
}
